{
 "cells": [
  {
   "cell_type": "code",
   "execution_count": 6,
   "metadata": {},
   "outputs": [
    {
     "name": "stdout",
     "output_type": "stream",
     "text": [
      "found: 3094\n",
      "Downloaded: 벤츠__A-클래스(W176)__.png\n"
     ]
    }
   ],
   "source": [
    "from selenium import webdriver\n",
    "from selenium.webdriver.chrome.service import Service\n",
    "from selenium.webdriver.common.by import By\n",
    "import time\n",
    "import os\n",
    "import urllib.request\n",
    "from urllib.error import URLError, HTTPError\n",
    "from PIL import Image\n",
    "import io\n",
    "\n",
    "start_model = 3094\n",
    "end_model = 3094\n",
    "\n",
    "service = Service(executable_path='./chromedriver.exe')\n",
    "options = webdriver.ChromeOptions()\n",
    "driver = webdriver.Chrome(service=service, options=options)\n",
    "\n",
    "for model in range(start_model, end_model + 1):\n",
    "    url = f\"https://auto.danawa.com/auto/?Work=model&Model={model}&Tab=spec\"\n",
    "    driver.get(url)\n",
    "    try:\n",
    "        a_element = driver.find_element(By.CSS_SELECTOR, \"#autodanawa_gridC > div.gridLeft > ul > li.depth3.useSub > a\")\n",
    "        b_element = driver.find_element(By.CSS_SELECTOR, \"#autodanawa_gridC > div.gridWide > article > main > div.modelHeader.auto > div.info > div.title\")\n",
    "        # img_element = driver.find_element(By.CSS_SELECTOR, \"#modelinfo > div.modelinfo-spec > img\")\n",
    "        img_element = driver.find_element(By.CSS_SELECTOR, \"#autodanawa_gridC > div.gridWide > article > main > div.modelHeader.auto > div.photo > img\")\n",
    "        # height_element = driver.find_element(By.CSS_SELECTOR, \"#compareRight_41 > td:nth-child(2) > span\")\n",
    "\n",
    "        # print(manufacturer, model_name, car_height)\n",
    "        print(f\"found: {model}\")\n",
    "    except:\n",
    "        # print(\"cannot find!\")\n",
    "        continue\n",
    "\n",
    "    manufacturer = a_element.text.strip().replace(' ','')\n",
    "    model_name = b_element.text.strip().replace(' ','').replace('/','-')\n",
    "    # car_height = height_element.text.strip().replace(' ','').replace('mm', '').replace(',', '')\n",
    "    img_src = img_element.get_attribute(\"src\")\n",
    "    image_name = f\"{manufacturer}__{model_name}__.png\"\n",
    "    image_path = os.path.join(\"car_info\", image_name)\n",
    "    \n",
    "    if not os.path.exists(\"car_info\"):\n",
    "        os.makedirs(\"car_info\")\n",
    "\n",
    "    urllib.request.urlretrieve(img_src, image_path)\n",
    "\n",
    "    try:\n",
    "        headers = {'User-Agent':'Chrome/66.0.3359.181'}\n",
    "        req = urllib.request.Request(img_src, headers=headers)\n",
    "        html = urllib.request.urlopen(req)\n",
    "    except HTTPError as e:\n",
    "        err = e.read()\n",
    "        code = e.getcode()\n",
    "        continue\n",
    "\n",
    "    source = html.read()\n",
    "    image_stream = io.BytesIO(source)\n",
    "    image = Image.open(image_stream)\n",
    "    image.save(image_path)\n",
    "\n",
    "    html.close()\n",
    "\n",
    "    print(f\"Downloaded: {image_name}\")\n",
    "\n",
    "# WebDriver를 종료합니다.\n",
    "driver.quit()\n"
   ]
  }
 ],
 "metadata": {
  "kernelspec": {
   "display_name": "py3.8",
   "language": "python",
   "name": "python3"
  },
  "language_info": {
   "codemirror_mode": {
    "name": "ipython",
    "version": 3
   },
   "file_extension": ".py",
   "mimetype": "text/x-python",
   "name": "python",
   "nbconvert_exporter": "python",
   "pygments_lexer": "ipython3",
   "version": "3.8.17"
  },
  "orig_nbformat": 4
 },
 "nbformat": 4,
 "nbformat_minor": 2
}
