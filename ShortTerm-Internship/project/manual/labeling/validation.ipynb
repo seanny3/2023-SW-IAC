{
 "cells": [
  {
   "cell_type": "markdown",
   "metadata": {},
   "source": [
    "### 클래스 분포"
   ]
  },
  {
   "cell_type": "code",
   "execution_count": 11,
   "metadata": {},
   "outputs": [
    {
     "name": "stdout",
     "output_type": "stream",
     "text": [
      "0: 10394\n",
      "1: 972\n"
     ]
    }
   ],
   "source": [
    "from glob import glob\n",
    "\n",
    "nc = 2\n",
    "classes = [0 for _ in range(nc)]\n",
    "\n",
    "file_list = glob('./LPR/input/labels/*.txt')\n",
    "\n",
    "for file in file_list:\n",
    "    with open(file, 'r') as f:\n",
    "        for line in f:\n",
    "            columns = line.split()\n",
    "            classes[int(columns[0])] += 1\n",
    "            \n",
    "for c, n in enumerate(classes):\n",
    "    print(f\"{c}: {n}\")"
   ]
  },
  {
   "cell_type": "markdown",
   "metadata": {},
   "source": [
    "### 클래스 인덱스 초과 검사"
   ]
  },
  {
   "cell_type": "code",
   "execution_count": 13,
   "metadata": {},
   "outputs": [],
   "source": [
    "import os\n",
    "\n",
    "def check_files_in_folder(folder_path, n):\n",
    "    # 폴더 내의 파일들을 확인\n",
    "    for filename in os.listdir(folder_path):\n",
    "        if filename.endswith(\".txt\"):  # 확장자가 .txt인 파일만 처리\n",
    "            file_path = os.path.join(folder_path, filename)\n",
    "\n",
    "            # 파일 내용을 읽어오기\n",
    "            with open(file_path, 'r') as file:\n",
    "                for line in file:\n",
    "                    # 각 줄을 공백으로 분리하여 컬럼 값들을 리스트로 저장\n",
    "                    columns = line.split()\n",
    "                    # 첫 번째 컬럼의 값이 오버 인덱스이면 파일명 출력\n",
    "                    if int(columns[0]) >= n:\n",
    "                        print(filename)\n",
    "                        break  # 파일 전체를 읽지 않고 다음 파일로 넘어감\n",
    "\n",
    "# 클래스 개수\n",
    "cls_num = 2\n",
    "folder_path = \"./LPR/input/labels/\"\n",
    "check_files_in_folder(folder_path, cls_num)"
   ]
  },
  {
   "cell_type": "markdown",
   "metadata": {},
   "source": [
    "### 클래스 중복 검사"
   ]
  },
  {
   "cell_type": "code",
   "execution_count": 15,
   "metadata": {},
   "outputs": [],
   "source": [
    "from glob import glob\n",
    "\n",
    "file_list = glob('./LPR/input/labels/*.txt')\n",
    "\n",
    "for file in file_list:\n",
    "    with open(file, 'r') as f:\n",
    "        cnt = 0\n",
    "        for line in f:\n",
    "            cnt += 1\n",
    "        if cnt >= 2:\n",
    "            print(file)"
   ]
  }
 ],
 "metadata": {
  "kernelspec": {
   "display_name": "py3.8",
   "language": "python",
   "name": "python3"
  },
  "language_info": {
   "codemirror_mode": {
    "name": "ipython",
    "version": 3
   },
   "file_extension": ".py",
   "mimetype": "text/x-python",
   "name": "python",
   "nbconvert_exporter": "python",
   "pygments_lexer": "ipython3",
   "version": "3.8.16"
  },
  "orig_nbformat": 4
 },
 "nbformat": 4,
 "nbformat_minor": 2
}
