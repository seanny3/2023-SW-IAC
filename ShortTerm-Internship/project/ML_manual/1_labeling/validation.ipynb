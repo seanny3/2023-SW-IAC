{
 "cells": [
  {
   "cell_type": "markdown",
   "metadata": {},
   "source": [
    "### 클래스 분포"
   ]
  },
  {
   "cell_type": "code",
   "execution_count": 25,
   "metadata": {},
   "outputs": [
    {
     "name": "stdout",
     "output_type": "stream",
     "text": [
      "0: 917\n",
      "1: 0\n",
      "2: 163\n",
      "3: 0\n"
     ]
    }
   ],
   "source": [
    "from glob import glob\n",
    "from pathlib import Path\n",
    "\n",
    "nc = 4\n",
    "classes = [0 for _ in range(nc)]\n",
    "\n",
    "# classes.txt 빼기\n",
    "labels = list(map(Path, glob('./data/img/*txt')))\n",
    "labels = list(filter(lambda item: item.name != 'classes.txt', labels))\n",
    "\n",
    "for label in labels:\n",
    "    with open(label, 'r') as f:\n",
    "        for line in f:\n",
    "            columns = line.split()\n",
    "            classes[int(columns[0])] += 1\n",
    "            \n",
    "for c, n in enumerate(classes):\n",
    "    print(f\"{c}: {n}\")"
   ]
  },
  {
   "cell_type": "markdown",
   "metadata": {},
   "source": [
    "### 클래스 인덱스 초과 검사"
   ]
  },
  {
   "cell_type": "code",
   "execution_count": 16,
   "metadata": {},
   "outputs": [],
   "source": [
    "from glob import glob\n",
    "from pathlib import Path\n",
    "\n",
    "# 클래스 개수\n",
    "cls_num = 2\n",
    "\n",
    "# classes.txt 빼기\n",
    "labels = list(map(Path, glob('./data/img/*txt')))\n",
    "labels = list(filter(lambda item: item.name != 'classes.txt', labels))\n",
    "\n",
    "for label in labels:\n",
    "    with open(label, 'r') as file:\n",
    "        for line in file:\n",
    "            columns = line.split()\n",
    "            if int(columns[0]) >= cls_num:\n",
    "                print(label)\n",
    "                break"
   ]
  },
  {
   "cell_type": "markdown",
   "metadata": {},
   "source": [
    "### 클래스 중복 검사"
   ]
  },
  {
   "cell_type": "code",
   "execution_count": 17,
   "metadata": {},
   "outputs": [],
   "source": [
    "from glob import glob\n",
    "from pathlib import Path\n",
    "\n",
    "# classes.txt 빼기\n",
    "labels = list(map(Path, glob('./data/img/*txt')))\n",
    "labels = list(filter(lambda item: item.name != 'classes.txt', labels))\n",
    "\n",
    "for label in labels:\n",
    "    with open(label, 'r') as file:\n",
    "        cnt = 0\n",
    "        for line in file:\n",
    "            cnt += 1\n",
    "        if cnt >= 2:\n",
    "            print(label)"
   ]
  },
  {
   "cell_type": "markdown",
   "metadata": {},
   "source": [
    "### 클래스 수정"
   ]
  },
  {
   "cell_type": "code",
   "execution_count": 24,
   "metadata": {},
   "outputs": [],
   "source": [
    "from glob import glob\n",
    "from pathlib import Path\n",
    "\n",
    "# classes.txt 빼기\n",
    "labels = list(map(Path, glob('./data/img/*txt')))\n",
    "labels = list(filter(lambda item: item.name != 'classes.txt', labels))\n",
    "\n",
    "_from = 1\n",
    "_to = 2\n",
    "\n",
    "for label in labels:\n",
    "    with open(label, 'r') as file:\n",
    "        lines = file.readlines()\n",
    "\n",
    "    with open(label, 'w') as file:\n",
    "        for line in lines:\n",
    "            columns = line.strip().split()  # 공백으로 분리된 컬럼 추출\n",
    "            if columns and columns[0] == str(_from):\n",
    "                columns[0] = str(_to)\n",
    "            new_line = ' '.join(columns) + '\\n'\n",
    "            file.write(new_line)"
   ]
  }
 ],
 "metadata": {
  "kernelspec": {
   "display_name": "py3.8",
   "language": "python",
   "name": "python3"
  },
  "language_info": {
   "codemirror_mode": {
    "name": "ipython",
    "version": 3
   },
   "file_extension": ".py",
   "mimetype": "text/x-python",
   "name": "python",
   "nbconvert_exporter": "python",
   "pygments_lexer": "ipython3",
   "version": "3.8.16"
  },
  "orig_nbformat": 4
 },
 "nbformat": 4,
 "nbformat_minor": 2
}
