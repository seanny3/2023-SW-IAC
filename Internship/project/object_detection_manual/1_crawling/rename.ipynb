{
 "cells": [
  {
   "cell_type": "code",
   "execution_count": 2,
   "metadata": {},
   "outputs": [
    {
     "data": {
      "text/plain": [
       "['hyundai+county-(CN)',\n",
       " 'hyundai+galloper-(M)',\n",
       " 'hyundai+grace',\n",
       " 'hyundai+ioniq5n-(NE-N)',\n",
       " 'hyundai+ioniq7',\n",
       " 'hyundai+labita-(FC)',\n",
       " 'hyundai+libero-(SR)',\n",
       " 'hyundai+maxcruz-(NC)',\n",
       " 'hyundai+mega-truck-(VC)',\n",
       " 'hyundai+mighty-(WQ)',\n",
       " 'hyundai+new-grace',\n",
       " 'hyundai+new-porter-(AU)',\n",
       " 'hyundai+new-tucson-ix-(LM)',\n",
       " 'hyundai+nexo-(FE)',\n",
       " 'hyundai+palisade-(LX2)',\n",
       " 'hyundai+pavise-(QV)',\n",
       " 'hyundai+porter-(AH)',\n",
       " 'hyundai+porter2-(HR)',\n",
       " 'hyundai+porter2-EV-(HR)',\n",
       " 'hyundai+santa-cruze-(NX4-OB)',\n",
       " 'hyundai+santa-fe-(CM)',\n",
       " 'hyundai+santa-fe-(DM)',\n",
       " 'hyundai+santa-fe-(MX5)',\n",
       " 'hyundai+santa-fe-(SM)',\n",
       " 'hyundai+santa-fe-(TM)',\n",
       " 'hyundai+santafe-the-prime-(DM)',\n",
       " 'hyundai+santamo-(M2)',\n",
       " 'hyundai+solati-(EU)',\n",
       " 'hyundai+starex-(A1)',\n",
       " 'hyundai+starex-(TQ)',\n",
       " 'hyundai+staria-(US4)',\n",
       " 'hyundai+terracan-(HP)',\n",
       " 'hyundai+the-new-grand-starex-(TQ)',\n",
       " 'hyundai+the-new-maxcruz-(NC)',\n",
       " 'hyundai+the-new-palisade-(LX2)',\n",
       " 'hyundai+the-new-santafe-(TM)',\n",
       " 'hyundai+trajet-XG-(FO)',\n",
       " 'hyundai+tucson-(JM)',\n",
       " 'hyundai+tucson-(NX4)',\n",
       " 'hyundai+tucson-(TL)',\n",
       " 'hyundai+tucson-ix-(LM)',\n",
       " 'hyundai+veracruz-(EN)']"
      ]
     },
     "execution_count": 2,
     "metadata": {},
     "output_type": "execute_result"
    }
   ],
   "source": [
    "import os\n",
    "list = os.listdir(\"database\")\n",
    "list"
   ]
  },
  {
   "cell_type": "code",
   "execution_count": 7,
   "metadata": {},
   "outputs": [],
   "source": [
    "import os, time, uuid\n",
    "\n",
    "# 사용 예시\n",
    "root = \"database\"\n",
    "\n",
    "for folder in os.listdir(root):\n",
    "    folder_path = os.path.join(root, folder)\n",
    "    \n",
    "    if os.path.isdir(folder_path):\n",
    "        \n",
    "        new_model_path = None\n",
    "        \n",
    "        for file in os.listdir(folder_path):\n",
    "            if any(file.lower().endswith(ext) for ext in [\".jpg\", \".jpeg\", \".png\", \".webp\", \"gif\", \"jfif\"]):\n",
    "                \n",
    "                file_name, _ = os.path.splitext(file)\n",
    "                new_file_name = f\"{folder}_{int(time.time())}{uuid.uuid4().hex[:8]}\"                    \n",
    "                os.rename(os.path.join(folder_path, file), os.path.join(folder_path, new_file_name + \".jpg\"))\n",
    "\n",
    "\n"
   ]
  }
 ],
 "metadata": {
  "kernelspec": {
   "display_name": "py3.8",
   "language": "python",
   "name": "python3"
  },
  "language_info": {
   "codemirror_mode": {
    "name": "ipython",
    "version": 3
   },
   "file_extension": ".py",
   "mimetype": "text/x-python",
   "name": "python",
   "nbconvert_exporter": "python",
   "pygments_lexer": "ipython3",
   "version": "3.8.16"
  },
  "orig_nbformat": 4
 },
 "nbformat": 4,
 "nbformat_minor": 2
}
