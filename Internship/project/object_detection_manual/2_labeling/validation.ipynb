{
 "cells": [
  {
   "cell_type": "markdown",
   "metadata": {},
   "source": [
    "### 클래스 분포"
   ]
  },
  {
   "cell_type": "code",
   "execution_count": 23,
   "metadata": {},
   "outputs": [
    {
     "name": "stdout",
     "output_type": "stream",
     "text": [
      "73\n"
     ]
    }
   ],
   "source": [
    "from glob import glob\n",
    "from pathlib import Path\n",
    "from tqdm import tqdm\n",
    "\n",
    "aaa = 0\n",
    "nc = 136\n",
    "classes = []\n",
    "\n",
    "with open('./classes.txt', 'r') as f:\n",
    "        line = f.readline()\n",
    "        while line:\n",
    "            classes.append([line.strip(), 0])\n",
    "            line = f.readline()\n",
    "            \n",
    "# classes.txt 빼기\n",
    "labels = list(map(Path, glob('C:\\\\Users\\\\User\\\\Desktop\\\\aaaa\\\\*.txt')))\n",
    "labels = list(filter(lambda item: item.name != 'classes.txt', labels))\n",
    "\n",
    "for label in labels:\n",
    "    with open(label, 'r') as f:\n",
    "        for line in f:\n",
    "            columns = line.split()\n",
    "            classes[int(columns[0])][1] += 1\n",
    "            \n",
    "for c, n in enumerate(classes):\n",
    "    if int(n[1]) == 0:\n",
    "        \n",
    "        aaa+=1\n",
    "    # print(f\"{n[1]}\")\n",
    "    # print(f\"{c}_{n[0]}: {n[1]}\")\n",
    "print(aaa)"
   ]
  },
  {
   "cell_type": "markdown",
   "metadata": {},
   "source": [
    "### 클래스 인덱스 초과 검사"
   ]
  },
  {
   "cell_type": "code",
   "execution_count": 6,
   "metadata": {},
   "outputs": [],
   "source": [
    "from glob import glob\n",
    "from pathlib import Path\n",
    "\n",
    "cls_num = 136\n",
    "\n",
    "# classes.txt 빼기\n",
    "labels = list(map(Path, glob('data/img/*.txt')))\n",
    "labels = list(filter(lambda item: item.name != 'classes.txt', labels))\n",
    "\n",
    "for label in labels:\n",
    "    with open(label, 'r') as file:\n",
    "        for line in file:\n",
    "            columns = line.split()\n",
    "            if int(columns[0]) >= cls_num:\n",
    "                print(label)\n",
    "                break"
   ]
  },
  {
   "cell_type": "markdown",
   "metadata": {},
   "source": [
    "### 클래스 중복 검사"
   ]
  },
  {
   "cell_type": "code",
   "execution_count": 8,
   "metadata": {},
   "outputs": [],
   "source": [
    "from glob import glob\n",
    "from pathlib import Path\n",
    "import os\n",
    "\n",
    "# classes.txt 빼기\n",
    "labels = list(map(Path, glob('data/img/*.txt')))\n",
    "labels = list(filter(lambda item: item.name != 'classes.txt', labels))\n",
    "\n",
    "remove_list = []\n",
    "for label in labels:\n",
    "    with open(label, 'r') as file:\n",
    "        cnt = 0\n",
    "        for line in file:\n",
    "            cnt += 1\n",
    "        if cnt >= 2:\n",
    "            print(label)\n",
    "            # remove_list.append(label)\n",
    "\n",
    "# for item in remove_list:\n",
    "#     os.remove(str(item.with_suffix('.jpg')))\n",
    "#     os.remove(str(item))"
   ]
  },
  {
   "cell_type": "markdown",
   "metadata": {},
   "source": [
    "### 클래스 수정"
   ]
  },
  {
   "cell_type": "code",
   "execution_count": null,
   "metadata": {},
   "outputs": [],
   "source": [
    "# from glob import glob\n",
    "# from pathlib import Path\n",
    "\n",
    "# # classes.txt 빼기\n",
    "# labels = list(map(Path, glob('./data/img/*txt')))\n",
    "# labels = list(filter(lambda item: item.name != 'classes.txt', labels))\n",
    "\n",
    "# _from = 1\n",
    "# _to = 2\n",
    "\n",
    "# for label in labels:\n",
    "#     with open(label, 'r') as file:\n",
    "#         lines = file.readlines()\n",
    "\n",
    "#     with open(label, 'w') as file:\n",
    "#         for line in lines:\n",
    "#             columns = line.strip().split()  # 공백으로 분리된 컬럼 추출\n",
    "#             if columns and columns[0] == str(_from):\n",
    "#                 columns[0] = str(_to)\n",
    "#             new_line = ' '.join(columns) + '\\n'\n",
    "#             file.write(new_line)"
   ]
  },
  {
   "cell_type": "markdown",
   "metadata": {},
   "source": [
    "### 클래스 이름과 파일명 동일하게 수정"
   ]
  },
  {
   "cell_type": "code",
   "execution_count": 24,
   "metadata": {},
   "outputs": [
    {
     "name": "stdout",
     "output_type": "stream",
     "text": [
      "288\n"
     ]
    }
   ],
   "source": [
    "from glob import glob\n",
    "from pathlib import Path\n",
    "import time, uuid, os\n",
    "\n",
    "# classes.txt 빼기\n",
    "labels = list(map(Path, glob('./data/img/*.txt')))\n",
    "labels = list(filter(lambda item: item.name != 'classes.txt', labels))\n",
    "root = Path('./data/img/')\n",
    "classes = []\n",
    "with open('./classes.txt', 'r') as file:\n",
    "    for line in file:\n",
    "        classes.append(line.split()[0])\n",
    "a=0\n",
    "for label in labels:\n",
    "    new_name = None\n",
    "    with open(label, 'r') as file:\n",
    "        cnt = 0\n",
    "        for line in file:\n",
    "            if cnt >= 1:\n",
    "                continue\n",
    "\n",
    "            columns = line.split()\n",
    "            new_str = classes[int(columns[0])].split('_')\n",
    "            new_name = f\"{new_str[0]}+{new_str[1]}_{int(time.time())}{uuid.uuid4().hex[:8]}\"\n",
    "            \n",
    "            a+=1\n",
    "            cnt += 1\n",
    "    \n",
    "    if new_name is None:\n",
    "        new_name = f\"__{int(time.time())}{uuid.uuid4().hex[:8]}\"\n",
    "    # image.jpg 이름 변경\n",
    "    os.rename(str(label.with_suffix('.jpg')), root / f\"{new_name}.jpg\")\n",
    "    # label.txt 이름 변경               \n",
    "    os.rename(str(label), root / f\"{new_name}.txt\")\n",
    "print(a)"
   ]
  },
  {
   "cell_type": "markdown",
   "metadata": {},
   "source": [
    "### category 별로 저장"
   ]
  },
  {
   "cell_type": "code",
   "execution_count": 2,
   "metadata": {},
   "outputs": [],
   "source": [
    "import os\n",
    "from glob import glob\n",
    "from pathlib import Path\n",
    "from shutil import copyfile\n",
    "\n",
    "files = [Path(img) for img in glob('./output2/*.jpg')]\n",
    "\n",
    "if not os.path.exists('output'):\n",
    "    os.mkdir('output')\n",
    "\n",
    "for image in files:\n",
    "    label = image.with_suffix('.txt')\n",
    "    save_dir = str(image.stem).split('_')[0]\n",
    "    \n",
    "    if not os.path.exists(os.path.join('output', save_dir)):\n",
    "        os.mkdir(os.path.join('output', save_dir))\n",
    "    \n",
    "    copyfile(image, os.path.join('output', save_dir, image.name))\n",
    "    copyfile(label, os.path.join('output', save_dir, label.name))\n",
    "    "
   ]
  },
  {
   "cell_type": "markdown",
   "metadata": {},
   "source": [
    "### RGBA to RGB"
   ]
  },
  {
   "cell_type": "code",
   "execution_count": 1,
   "metadata": {},
   "outputs": [
    {
     "name": "stderr",
     "output_type": "stream",
     "text": [
      "  7%|▋         | 582/8264 [00:08<04:10, 30.65it/s] c:\\Users\\User\\anaconda3\\envs\\py3.8\\lib\\site-packages\\PIL\\Image.py:979: UserWarning: Palette images with Transparency expressed in bytes should be converted to RGBA images\n",
      "  warnings.warn(\n",
      " 89%|████████▊ | 7333/8264 [02:29<00:13, 70.06it/s] "
     ]
    },
    {
     "name": "stdout",
     "output_type": "stream",
     "text": [
      "C:\\Users\\User\\Desktop\\hyundai_category\\hyundai+tucson-(JM)\\hyundai+tucson-(JM)_1693204778f59175ef.jpg\n"
     ]
    },
    {
     "name": "stderr",
     "output_type": "stream",
     "text": [
      "100%|██████████| 8264/8264 [02:47<00:00, 49.29it/s]\n"
     ]
    }
   ],
   "source": [
    "import os\n",
    "from glob import glob\n",
    "from pathlib import Path\n",
    "from shutil import copyfile\n",
    "from PIL import Image\n",
    "from tqdm import tqdm\n",
    "\n",
    "files = [Path(img) for img in glob('C:\\\\Users\\\\User\\\\Desktop\\\\hyundai_category\\\\**\\\\*.jpg')]\n",
    "\n",
    "if not os.path.exists('output'):\n",
    "    os.mkdir('output')\n",
    "    \n",
    "for file in tqdm(files):\n",
    "    try:\n",
    "        img = Image.open(str(file)).convert('RGB')\n",
    "        img.save(os.path.join('output', file.name))\n",
    "    except:\n",
    "        print(file)"
   ]
  },
  {
   "cell_type": "code",
   "execution_count": 28,
   "metadata": {},
   "outputs": [
    {
     "name": "stdout",
     "output_type": "stream",
     "text": [
      "271/288\n",
      "94.09722222222221%\n"
     ]
    }
   ],
   "source": [
    "from glob import glob\n",
    "\n",
    "if __name__== \"__main__\":\n",
    "    folder1 = glob('C:\\\\Users\\\\User\\\\Desktop\\\\정답\\\\*.txt')\n",
    "    folder2 = glob('C:\\\\Users\\\\User\\\\Desktop\\\\예측_v2\\\\*.txt')\n",
    "\n",
    "    f1_list = []\n",
    "    f2_list = []\n",
    "    for f1 in folder1:\n",
    "        try:\n",
    "            with open(f1, 'r') as f:\n",
    "                lines = f.read()\n",
    "                line = lines.split()\n",
    "                f1_list.append(line[0])\n",
    "        except:\n",
    "            f1_list.append(999)\n",
    "\n",
    "    for f2 in folder2:\n",
    "        try:\n",
    "            with open(f2, 'r') as f:\n",
    "                lines = f.read()\n",
    "                line = lines.split()\n",
    "                f2_list.append(line[0])\n",
    "        except:\n",
    "            f2_list.append(999)\n",
    "            \n",
    "    cnt = 0\n",
    "    for idx, item in enumerate(f1_list, 0):\n",
    "        if f2_list[idx] == f1_list[idx]:\n",
    "        cnt += 1 \n",
    "            \n",
    "    print(f\"{cnt}/{len(f1_list)}\")\n",
    "    print(f\"{cnt/len(f1_list)*100}%\")"
   ]
  }
 ],
 "metadata": {
  "kernelspec": {
   "display_name": "py3.8",
   "language": "python",
   "name": "python3"
  },
  "language_info": {
   "codemirror_mode": {
    "name": "ipython",
    "version": 3
   },
   "file_extension": ".py",
   "mimetype": "text/x-python",
   "name": "python",
   "nbconvert_exporter": "python",
   "pygments_lexer": "ipython3",
   "version": "3.8.16"
  },
  "orig_nbformat": 4
 },
 "nbformat": 4,
 "nbformat_minor": 2
}
